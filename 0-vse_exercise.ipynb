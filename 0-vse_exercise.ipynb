{
 "cells": [
  {
   "cell_type": "markdown",
   "metadata": {
    "id": "bc_9oacCGI-K"
   },
   "source": [
    "## **Intro to Deep Learning with Keras**"
   ]
  },
  {
   "cell_type": "markdown",
   "metadata": {
    "id": "DEloWMmzZf1v"
   },
   "source": [
    "## **Challenge**:\n",
    "\n",
    "Classify images of handwritten digits.\n",
    "\n",
    "\n",
    "1.   Account Payables (Invoices)\n",
    "2.   Employee Expenses\n",
    "3.   Any other example ?\n",
    "\n",
    "\n"
   ]
  },
  {
   "cell_type": "markdown",
   "metadata": {
    "id": "ZxmA2SlRavwN"
   },
   "source": [
    "**Learning from Data**\n",
    "\n",
    "\n",
    "1.   Input data points\n",
    "2.   Expected output \n",
    "3.   Measure of error, is the algorithm doing a good job?\n",
    "\n"
   ]
  },
  {
   "cell_type": "code",
   "execution_count": 140,
   "metadata": {},
   "outputs": [],
   "source": [
    "#pip install keras\n",
    "#pip install tensorflow"
   ]
  },
  {
   "cell_type": "code",
   "execution_count": 141,
   "metadata": {
    "id": "DYt5s7PKaUvY"
   },
   "outputs": [],
   "source": [
    "import tensorflow\n",
    "import keras\n",
    "from keras.datasets import mnist\n",
    "# Training Set = img_training, labels_training\n",
    "# Test Set = img_test, labels_test\n",
    "\n",
    "## TO-DO: Load MNIST dataset using Keras dataset\n",
    "(img_training, labels_training), (img_test, labels_test) = mnist.load_data()"
   ]
  },
  {
   "cell_type": "code",
   "execution_count": 142,
   "metadata": {},
   "outputs": [
    {
     "name": "stdout",
     "output_type": "stream",
     "text": [
      "[5 0 4 ... 5 6 8]\n",
      "[7 2 1 ... 4 5 6]\n"
     ]
    }
   ],
   "source": [
    "print(labels_training)\n",
    "print(labels_test)"
   ]
  },
  {
   "cell_type": "code",
   "execution_count": 143,
   "metadata": {
    "id": "Ak31xYIabPOl"
   },
   "outputs": [
    {
     "data": {
      "image/png": "[encoded data removed]",
      "text/plain": [
       "<Figure size 432x288 with 1 Axes>"
      ]
     },
     "metadata": {
      "needs_background": "light"
     },
     "output_type": "display_data"
    }
   ],
   "source": [
    "import matplotlib.pyplot as plt\n",
    "plt.imshow(img_training[10], cmap = plt.cm.binary)\n",
    "plt.show()"
   ]
  },
  {
   "cell_type": "code",
   "execution_count": 144,
   "metadata": {
    "id": "kRSf8LR8cEuI"
   },
   "outputs": [],
   "source": [
    "# Neural Network\n",
    "\n",
    "from keras import models\n",
    "from keras import layers\n",
    "\n",
    "## TO-DO: Define Sequential Model\n",
    "nn = keras.models.Sequential()\n",
    "# Layers: Data Distillation the extraction of the essential meaning or most important aspects of something (data)."
   ]
  },
  {
   "cell_type": "code",
   "execution_count": 169,
   "metadata": {
    "id": "kRSf8LR8cEuI"
   },
   "outputs": [],
   "source": [
    "## To-Do: Add Dense - Relu - Dense - Softmax use this form:\n",
    "\n",
    "nn.add(layers.Dense(20, activation='relu', input_shape=(28*28,) )) #trial-error method\n",
    "nn.add(layers.Dense(10, activation='softmax'))\n",
    "keras.layers.Flatten()\n",
    "\n",
    "# Compilation: Loss, optimizer, metric (3)\n",
    "## To-do: complete model compile configuration. Be mindful of the chosen Loss\n",
    "nn.compile(optimizer='adam', loss='categorical_crossentropy', metrics=['accuracy'])"
   ]
  },
  {
   "cell_type": "markdown",
   "metadata": {
    "id": "FO_CViQOhP36"
   },
   "source": [
    "**Prepare data**"
   ]
  },
  {
   "cell_type": "code",
   "execution_count": 146,
   "metadata": {
    "id": "9ocU16h4hU_T"
   },
   "outputs": [],
   "source": [
    "# Input data: Images of handwritten digits\n",
    "\n",
    "\n",
    "img_training = img_training.reshape((60000, 28*28))\n",
    "img_training = img_training.astype('float32')/255\n",
    "\n",
    "img_test = img_test.reshape((10000, 28*28))\n",
    "img_test = img_test.astype('float32')/255\n",
    "\n",
    "# Labels \n",
    "\n",
    "from tensorflow.keras.utils import to_categorical\n",
    "\n",
    "labels_training = to_categorical(labels_training)\n",
    "labels_test = to_categorical(labels_test)\n"
   ]
  },
  {
   "cell_type": "markdown",
   "metadata": {
    "id": "-gYth5hZiq-n"
   },
   "source": [
    "**Train the network**\n",
    "\n",
    "So far we have:\n",
    "\n",
    "1.   Loaded the data\n",
    "2.   Created the network architecture\n",
    "3.   Defined how to improve and how to measure success (loss, accuracy, optimizer)\n",
    "4.   A little bit of data pre-processing (transforming the I/O Data)\n",
    "\n"
   ]
  },
  {
   "cell_type": "code",
   "execution_count": 170,
   "metadata": {},
   "outputs": [
    {
     "name": "stdout",
     "output_type": "stream",
     "text": [
      "Model: \"sequential_8\"\n",
      "_________________________________________________________________\n",
      " Layer (type)                Output Shape              Param #   \n",
      "=================================================================\n",
      " dense_65 (Dense)            (None, 10)                7850      \n",
      "                                                                 \n",
      " dense_66 (Dense)            (None, 10)                110       \n",
      "                                                                 \n",
      " dense_67 (Dense)            (None, 20)                220       \n",
      "                                                                 \n",
      " dense_68 (Dense)            (None, 10)                210       \n",
      "                                                                 \n",
      "=================================================================\n",
      "Total params: 8,390\n",
      "Trainable params: 8,390\n",
      "Non-trainable params: 0\n",
      "_________________________________________________________________\n"
     ]
    }
   ],
   "source": [
    "nn.summary()"
   ]
  },
  {
   "cell_type": "code",
   "execution_count": 171,
   "metadata": {
    "id": "-SZsw-nRiTHN",
    "scrolled": false
   },
   "outputs": [
    {
     "name": "stdout",
     "output_type": "stream",
     "text": [
      "Epoch 1/30\n",
      "469/469 [==============================] - 1s 2ms/step - loss: 1.1132 - accuracy: 0.8279\n",
      "Epoch 2/30\n",
      "469/469 [==============================] - 1s 2ms/step - loss: 0.2714 - accuracy: 0.9423\n",
      "Epoch 3/30\n",
      "469/469 [==============================] - 1s 2ms/step - loss: 0.2342 - accuracy: 0.9440\n",
      "Epoch 4/30\n",
      "469/469 [==============================] - 1s 2ms/step - loss: 0.2231 - accuracy: 0.9455\n",
      "Epoch 5/30\n",
      "469/469 [==============================] - 1s 2ms/step - loss: 0.2162 - accuracy: 0.9460\n",
      "Epoch 6/30\n",
      "469/469 [==============================] - 1s 2ms/step - loss: 0.2113 - accuracy: 0.9459\n",
      "Epoch 7/30\n",
      "469/469 [==============================] - 1s 2ms/step - loss: 0.2065 - accuracy: 0.9467\n",
      "Epoch 8/30\n",
      "469/469 [==============================] - 1s 2ms/step - loss: 0.2027 - accuracy: 0.9472\n",
      "Epoch 9/30\n",
      "469/469 [==============================] - 1s 2ms/step - loss: 0.2005 - accuracy: 0.9480\n",
      "Epoch 10/30\n",
      "469/469 [==============================] - 1s 2ms/step - loss: 0.1976 - accuracy: 0.9486\n",
      "Epoch 11/30\n",
      "469/469 [==============================] - 1s 2ms/step - loss: 0.1955 - accuracy: 0.9482\n",
      "Epoch 12/30\n",
      "469/469 [==============================] - 1s 2ms/step - loss: 0.1939 - accuracy: 0.9489\n",
      "Epoch 13/30\n",
      "469/469 [==============================] - 1s 2ms/step - loss: 0.1921 - accuracy: 0.9491\n",
      "Epoch 14/30\n",
      "469/469 [==============================] - 1s 2ms/step - loss: 0.1906 - accuracy: 0.9490\n",
      "Epoch 15/30\n",
      "469/469 [==============================] - 1s 2ms/step - loss: 0.1893 - accuracy: 0.9495\n",
      "Epoch 16/30\n",
      "469/469 [==============================] - 1s 2ms/step - loss: 0.1880 - accuracy: 0.9498\n",
      "Epoch 17/30\n",
      "469/469 [==============================] - 1s 2ms/step - loss: 0.1871 - accuracy: 0.9501\n",
      "Epoch 18/30\n",
      "469/469 [==============================] - 1s 2ms/step - loss: 0.1851 - accuracy: 0.9504\n",
      "Epoch 19/30\n",
      "469/469 [==============================] - 1s 2ms/step - loss: 0.1845 - accuracy: 0.9507\n",
      "Epoch 20/30\n",
      "469/469 [==============================] - 1s 2ms/step - loss: 0.1839 - accuracy: 0.9509\n",
      "Epoch 21/30\n",
      "469/469 [==============================] - 1s 2ms/step - loss: 0.1822 - accuracy: 0.9515\n",
      "Epoch 22/30\n",
      "469/469 [==============================] - 1s 2ms/step - loss: 0.1814 - accuracy: 0.9517\n",
      "Epoch 23/30\n",
      "469/469 [==============================] - 1s 2ms/step - loss: 0.1805 - accuracy: 0.9521\n",
      "Epoch 24/30\n",
      "469/469 [==============================] - 1s 2ms/step - loss: 0.1794 - accuracy: 0.9520\n",
      "Epoch 25/30\n",
      "469/469 [==============================] - 1s 2ms/step - loss: 0.1789 - accuracy: 0.9517\n",
      "Epoch 26/30\n",
      "469/469 [==============================] - 1s 2ms/step - loss: 0.1775 - accuracy: 0.9520\n",
      "Epoch 27/30\n",
      "469/469 [==============================] - 1s 2ms/step - loss: 0.1770 - accuracy: 0.9523\n",
      "Epoch 28/30\n",
      "469/469 [==============================] - 1s 2ms/step - loss: 0.1765 - accuracy: 0.9527\n",
      "Epoch 29/30\n",
      "469/469 [==============================] - 1s 2ms/step - loss: 0.1755 - accuracy: 0.9529\n",
      "Epoch 30/30\n",
      "469/469 [==============================] - 1s 2ms/step - loss: 0.1747 - accuracy: 0.9522\n"
     ]
    },
    {
     "data": {
      "text/plain": [
       "<keras.callbacks.History at 0x22b1d3f32b0>"
      ]
     },
     "execution_count": 171,
     "metadata": {},
     "output_type": "execute_result"
    }
   ],
   "source": [
    "nn.fit(img_training, labels_training, epochs=30, batch_size=128)\n",
    "# The NN used the data to learn how to associate images and labels\n",
    "# fit: the network  started to iterate on the training data in mini-batches of 128 samples, 5 times over\n",
    "# each epoch or iteration, the network will compute the gradients of the weights with regard to the loss on the batch"
   ]
  },
  {
   "cell_type": "markdown",
   "metadata": {
    "id": "2Sn5UdZDm1og"
   },
   "source": [
    "**Test on unseen data**"
   ]
  },
  {
   "cell_type": "code",
   "execution_count": 172,
   "metadata": {
    "id": "cMmV7ssam6k-"
   },
   "outputs": [
    {
     "name": "stdout",
     "output_type": "stream",
     "text": [
      "313/313 [==============================] - 1s 1ms/step - loss: 0.2484 - accuracy: 0.9364\n",
      "0.9363999962806702\n"
     ]
    }
   ],
   "source": [
    "test_loss, test_accuracy = nn.evaluate(img_test, labels_test)\n",
    "print(test_accuracy)"
   ]
  },
  {
   "cell_type": "markdown",
   "metadata": {
    "id": "wAgM6NnIDCnV"
   },
   "source": [
    "**Pick one example**"
   ]
  },
  {
   "cell_type": "code",
   "execution_count": 153,
   "metadata": {
    "id": "i7ibMDZnDGzV"
   },
   "outputs": [
    {
     "name": "stdout",
     "output_type": "stream",
     "text": [
      "(784,) input image shape\n",
      "1/1 [==============================] - 0s 19ms/step\n",
      "rounded [[0.   0.   0.   0.03 0.   0.   0.   0.   0.96 0.  ]]\n",
      "Class:  8\n",
      "[[1.3897992e-05 1.2426925e-04 2.3230950e-04 3.3920132e-02 8.1625749e-06\n",
      "  1.1605377e-03 1.1075395e-05 6.4604326e-09 9.6448010e-01 4.9538205e-05]]\n"
     ]
    },
    {
     "data": {
      "image/png": "[encoded data removed]",
      "text/plain": [
       "<Figure size 432x288 with 1 Axes>"
      ]
     },
     "metadata": {
      "needs_background": "light"
     },
     "output_type": "display_data"
    }
   ],
   "source": [
    "import numpy as np\n",
    "image_test = img_test[110]\n",
    "print(image_test.shape, \"input image shape\")\n",
    "image_class = nn.predict(image_test.reshape(1,784))\n",
    "print(\"rounded\", image_class.round(2))\n",
    "print(\"Class: \", np.argmax(image_class))\n",
    "print(image_class)\n",
    "\n",
    "image_test= image_test.reshape((28,28))\n",
    "plt.title(np.argmax(image_class))\n",
    "plt.imshow(image_test)\n",
    "plt.show()"
   ]
  },
  {
   "cell_type": "code",
   "execution_count": 159,
   "metadata": {
    "scrolled": true
   },
   "outputs": [
    {
     "name": "stdout",
     "output_type": "stream",
     "text": [
      "Epoch 1/5\n",
      "60000/60000 [==============================] - 94s 2ms/step - loss: 0.2758 - accuracy: 0.9212 - val_loss: 0.3086 - val_accuracy: 0.9128\n",
      "Epoch 2/5\n",
      "60000/60000 [==============================] - 94s 2ms/step - loss: 0.2693 - accuracy: 0.9226 - val_loss: 0.2735 - val_accuracy: 0.9219\n",
      "Epoch 3/5\n",
      "60000/60000 [==============================] - 94s 2ms/step - loss: 0.2623 - accuracy: 0.9247 - val_loss: 0.2836 - val_accuracy: 0.9197\n",
      "Epoch 4/5\n",
      "60000/60000 [==============================] - 93s 2ms/step - loss: 0.2583 - accuracy: 0.9256 - val_loss: 0.2655 - val_accuracy: 0.9271\n",
      "Epoch 5/5\n",
      "60000/60000 [==============================] - 92s 2ms/step - loss: 0.2517 - accuracy: 0.9285 - val_loss: 0.2805 - val_accuracy: 0.9249\n"
     ]
    }
   ],
   "source": [
    "history = nn.fit(img_training, labels_training, epochs=5, batch_size=1, validation_data=(img_test, labels_test))"
   ]
  },
  {
   "cell_type": "code",
   "execution_count": 166,
   "metadata": {},
   "outputs": [
    {
     "data": {
      "image/png": "[encoded data removed]",
      "text/plain": [
       "<Figure size 432x288 with 1 Axes>"
      ]
     },
     "metadata": {
      "needs_background": "light"
     },
     "output_type": "display_data"
    }
   ],
   "source": [
    "loss_train = history.history['accuracy']\n",
    "loss_val = history.history['val_accuracy']\n",
    "epochs = range(0,5)\n",
    "plt.plot(epochs, loss_train, 'g', label='Training accuracy')\n",
    "plt.plot(epochs, loss_val, 'b', label='validation accuracy')\n",
    "plt.title('Training and Validation accuracy')\n",
    "plt.xlabel('Epochs')\n",
    "plt.ylabel('Accuracy')\n",
    "plt.legend()\n",
    "plt.show()"
   ]
  },
  {
   "cell_type": "code",
   "execution_count": 168,
   "metadata": {},
   "outputs": [
    {
     "data": {
      "image/png": "[encoded data removed]",
      "text/plain": [
       "<Figure size 432x288 with 1 Axes>"
      ]
     },
     "metadata": {
      "needs_background": "light"
     },
     "output_type": "display_data"
    }
   ],
   "source": [
    "loss_train = history.history['loss']\n",
    "loss_val = history.history['val_loss']\n",
    "epochs = range(0,5)\n",
    "plt.plot(epochs, loss_train, 'g', label='Training loss')\n",
    "plt.plot(epochs, loss_val, 'b', label='validation loss')\n",
    "plt.title('Training and Validation loss')\n",
    "plt.xlabel('Epochs')\n",
    "plt.ylabel('Loss')\n",
    "plt.legend()\n",
    "plt.show()"
   ]
  }
 ],
 "metadata": {
  "colab": {
   "collapsed_sections": [],
   "name": "vse-exercise",
   "provenance": []
  },
  "kernelspec": {
   "display_name": "Python 3 (ipykernel)",
   "language": "python",
   "name": "python3"
  },
  "language_info": {
   "codemirror_mode": {
    "name": "ipython",
    "version": 3
   },
   "file_extension": ".py",
   "mimetype": "text/x-python",
   "name": "python",
   "nbconvert_exporter": "python",
   "pygments_lexer": "ipython3",
   "version": "3.9.7"
  }
 },
 "nbformat": 4,
 "nbformat_minor": 1
}
